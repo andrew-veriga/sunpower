{
  "nbformat": 4,
  "nbformat_minor": 0,
  "metadata": {
    "colab": {
      "name": "Copy of model.ipynb",
      "provenance": [],
      "collapsed_sections": [],
      "authorship_tag": "ABX9TyNhUV1eXw2q+/aSRI+6Ct7n",
      "include_colab_link": true
    },
    "kernelspec": {
      "name": "python3",
      "display_name": "Python 3"
    },
    "accelerator": "GPU"
  },
  "cells": [
    {
      "cell_type": "markdown",
      "metadata": {
        "id": "view-in-github",
        "colab_type": "text"
      },
      "source": [
        "<a href=\"https://colab.research.google.com/github/andrew-veriga/sunpower/blob/master/model.ipynb\" target=\"_parent\"><img src=\"https://colab.research.google.com/assets/colab-badge.svg\" alt=\"Open In Colab\"/></a>"
      ]
    },
    {
      "cell_type": "markdown",
      "metadata": {
        "id": "80bbbp5NYOzG",
        "colab_type": "text"
      },
      "source": [
        "http://docs.astropy.org/en/stable/generated/examples/coordinates/plot_obs-planning.html\n",
        "\n",
        "<!-- from astropy.coordinates import get_sun -->"
      ]
    },
    {
      "cell_type": "markdown",
      "metadata": {
        "id": "_bK9viNGeQ0k",
        "colab_type": "text"
      },
      "source": [
        "##Получение данных из excel"
      ]
    },
    {
      "cell_type": "code",
      "metadata": {
        "id": "C76L7MHSF0TR",
        "colab_type": "code",
        "colab": {}
      },
      "source": [
        "import pandas as pd\n",
        "import tensorflow as tf\n",
        "import numpy as np\n"
      ],
      "execution_count": 0,
      "outputs": []
    },
    {
      "cell_type": "markdown",
      "metadata": {
        "id": "SSNZsDa8jFQJ",
        "colab_type": "text"
      },
      "source": [
        "###Создание датасета"
      ]
    },
    {
      "cell_type": "code",
      "metadata": {
        "id": "LCYQ-knbLcGi",
        "colab_type": "code",
        "colab": {
          "base_uri": "https://localhost:8080/",
          "height": 343
        },
        "outputId": "83c89e78-6c3d-4961-bd3f-e1945b47d9f6"
      },
      "source": [
        "df.columns"
      ],
      "execution_count": 208,
      "outputs": [
        {
          "output_type": "execute_result",
          "data": {
            "text/plain": [
              "Index(['№ п/п', 'Время', 'Мощность, МВт',\n",
              "       'Температура воздуха (градусы Цельсия) на высоте 2 метра над поверхностью земли',\n",
              "       'Атмосферное давление на уровне станции (миллиметры ртутного столба)',\n",
              "       'Атмосферное давление, приведенное к среднему уровню моря (миллиметры ртутного столба) ',\n",
              "       'Относительная влажность (%) на высоте 2 метра над поверхностью земли',\n",
              "       'Направление ветра (румбы) на высоте 10-12 метров над земной поверхностью, осредненное за 10-минутный период , непосредственно предшествовавший сроку наблюдения ',\n",
              "       'Скорость ветра на высоте 10-12 метров над земной поверхностью, осредненное за 10-минутный период , непосредственно предшествовавший сроку наблюдения (метры в секунду) ',\n",
              "       'Общая облачность',\n",
              "       'Текущая погода, сообщаемая с метеорологической станции ',\n",
              "       'Прошедшая погода между сроками наблюдения 1',\n",
              "       'Прошедшая погода между сроками наблюдения 2',\n",
              "       'Слоисто-кучевые, слоитсые, кучевые и кучево-дождевые облака',\n",
              "       'Количество всех наблюдающихся облаков Cl или, при отсутствии облаков Cl, количество всех наблюдащихся облаков Cm',\n",
              "       'Высота основания самых низких облаков (м)',\n",
              "       'Высококучевые, высокослоистые и слоисто-дождевые облака',\n",
              "       'Перистые, перисто-кучевые и перисто-слоистые облака',\n",
              "       'Горизонтальная дальность видимости (км)'],\n",
              "      dtype='object')"
            ]
          },
          "metadata": {
            "tags": []
          },
          "execution_count": 208
        }
      ]
    },
    {
      "cell_type": "code",
      "metadata": {
        "id": "vFzApPvRuCGp",
        "colab_type": "code",
        "colab": {}
      },
      "source": [
        "import astropy.units as u\n",
        "from astropy.time import Time, TimeDelta\n",
        "from astropy.coordinates import SkyCoord, EarthLocation, AltAz, get_sun\n",
        "# import datetime\n",
        "\n",
        "def make_dataset(df):\n",
        "  numeric_columns=[\n",
        "              'Мощность, МВт',\n",
        "              'Температура воздуха (градусы Цельсия) на высоте 2 метра над поверхностью земли',\n",
        "              'Атмосферное давление на уровне станции (миллиметры ртутного столба)',\n",
        "              'Атмосферное давление, приведенное к среднему уровню моря (миллиметры ртутного столба) ',\n",
        "              'Относительная влажность (%) на высоте 2 метра над поверхностью земли',\n",
        "              'Направление ветра (румбы) на высоте 10-12 метров над земной поверхностью, осредненное за 10-минутный период , непосредственно предшествовавший сроку наблюдения ',\n",
        "              'Скорость ветра на высоте 10-12 метров над земной поверхностью, осредненное за 10-минутный период , непосредственно предшествовавший сроку наблюдения (метры в секунду) ',\n",
        "              ]\n",
        "  series = df[numeric_columns].interpolate()# fillna(value=0)\n",
        "              \n",
        "              \n",
        "  \n",
        "  # добавление one-hot векторов значений для колонок 'Общая облачность' и \"Высота облаков\"\n",
        "\n",
        "  clouds= df['Общая облачность'].astype('category')\n",
        "  clouds_height=df['Высота основания самых низких облаков (м)'].astype('category')\n",
        "  weather_2 = df['Прошедшая погода между сроками наблюдения 2'].fillna(method= 'ffill').astype('category')\n",
        "\n",
        "  series=pd.concat([\n",
        "                    series,\n",
        "                    pd.get_dummies(clouds, prefix='Облака',dummy_na=True).fillna(value=0),\n",
        "                    pd.get_dummies(clouds_height,prefix='Высота',dummy_na=True).fillna(value=0),\n",
        "                    pd.get_dummies(weather_2,prefix='Погода')\n",
        "                    ],axis=1)              \n",
        "  # Черный яр : 48.060120° с.ш. 46.108620° в.д.\n",
        "  # Географические координаты Черного Яра. Широта : 48°03′44″ с.ш. Долгота: 46°06′32″ в.д. Высота над уровнем моря: 1 м.\n",
        "  # Астрахань 46.361433 48.060790\n",
        "\n",
        "  location = EarthLocation(lon=46.361433, lat= 48.060790, height=-20)\n",
        "  datetimes= Time(df.index.date.astype(np.datetime64)) + (df['Время'].dt.hour.to_numpy()+4) * u.hour\n",
        "  frame = AltAz(obstime=datetimes, location=location)\n",
        "  sun_altaz=get_sun(datetimes).transform_to(frame)\n",
        "  \n",
        "  series['Sun_alt']= sun_altaz.alt\n",
        "  series['Sun_az'] = sun_altaz.az\n",
        "  #series.drop(columns=['Время'])\n",
        "  # # Добавление колонок \"Время дня\" и \"Месяц года\"\n",
        "  # series.insert(0,'Месяц', series.index.month)\n",
        "  # series.insert(1,'Время', series.index.hour)# series['Время'].map(lambda x: np.int(x.strftime('%H')))#.astype(np.string_)#.map(lambda x: x.strftime('%H'))\n",
        "\n",
        "  # нормализация данных\n",
        "  cols = numeric_columns\n",
        "  data_mean= series.loc[:, cols].mean(axis=0)\n",
        "  data_std = series.loc[:, cols].std(axis=0)\n",
        "  series.loc[:, cols] = (series.loc[:, cols]-data_mean)/data_std\n",
        "  return series\n",
        "###################\n"
      ],
      "execution_count": 0,
      "outputs": []
    },
    {
      "cell_type": "code",
      "metadata": {
        "id": "8aNMHjea7dKE",
        "colab_type": "code",
        "colab": {}
      },
      "source": [
        "df = pd.read_excel(\"https://github.com/andrew-veriga/sunpower/raw/master/SES_9_Astrakhan_-_gotovo.xlsx\", parse_dates=[\"Дата\",\"Время\"],infer_datetime_format=True, index_col=\"Дата\")\n",
        "\n",
        "# df['Location'] = 'Черный Яр'\n",
        "# df = pd.read_excel(\"https://github.com/andrew-veriga/sunpower/raw/master/SES_5_Dosang_-_gotovo.xlsx\",parse_dates=[\"Дата\"], index_col=\"Дата\")\n",
        "# df = pd.read_excel(\"https://github.com/andrew-veriga/sunpower/raw/master/SES_6_Kharabali_-_gotovo.xlsx\",parse_dates=[\"Дата\"], index_col=\"Дата\"))\n",
        "# df = pd.read_excel(\"https://github.com/andrew-veriga/sunpower/raw/master/SES_7_Zelenga_-_gotovo.xlsx\",parse_dates=[\"Дата\"], index_col=\"Дата\"))\n",
        "# df = pd.read_excel(\"https://github.com/andrew-veriga/sunpower/raw/master/SES_9_Astrakhan_-_gotovo.xlsx\",parse_dates=[\"Дата\"], index_col=\"Дата\"))\n",
        "\n",
        "series=make_dataset(df)"
      ],
      "execution_count": 0,
      "outputs": []
    },
    {
      "cell_type": "markdown",
      "metadata": {
        "id": "vJk8gao_Tj0U",
        "colab_type": "text"
      },
      "source": [
        "проба из https://www.tensorflow.org/tutorials/structured_data/time_series"
      ]
    },
    {
      "cell_type": "code",
      "metadata": {
        "id": "EC_4LCZbTi4-",
        "colab_type": "code",
        "colab": {}
      },
      "source": [
        "### проба из https://www.tensorflow.org/tutorials/structured_data/time_series\n",
        "def multivariate_data(dataset, target, start_index, end_index, history_size,\n",
        "                      target_size, step, single_step=False):\n",
        "  data = []\n",
        "  labels = []\n",
        "\n",
        "  start_index = start_index + history_size\n",
        "  if end_index is None:\n",
        "    end_index = len(dataset) - target_size\n",
        "\n",
        "  for i in range(start_index, end_index):\n",
        "    indices = range(i-history_size, i, step)\n",
        "    data.append(dataset[indices])\n",
        "\n",
        "    if single_step:\n",
        "      labels.append(target[i+target_size])\n",
        "    else:\n",
        "      labels.append(target[i:i+target_size])\n",
        "\n",
        "  return np.array(data), np.array(labels)\n",
        "######################################\n",
        "# past_history = window_size\n",
        "# future_target = 1\n",
        "# STEP = 1\n",
        "# ds= series.values\n",
        "# target = series['Мощность, МВт'].values\n",
        "# x_train_single, y_train_single = multivariate_data(ds, target, 0,\n",
        "#                                                    split_datetime, past_history,\n",
        "#                                                    future_target, STEP,\n",
        "#                                                    single_step=True)"
      ],
      "execution_count": 0,
      "outputs": []
    },
    {
      "cell_type": "markdown",
      "metadata": {
        "id": "pdC_BIGvlNhW",
        "colab_type": "text"
      },
      "source": [
        "###Оформление оконного датасета"
      ]
    },
    {
      "cell_type": "code",
      "metadata": {
        "id": "FD3vOVRzinwI",
        "colab_type": "code",
        "colab": {}
      },
      "source": [
        "def windowed_dataset(series, target, window_size, batch_size, shuffle_buffer):\n",
        "  target_colnum=series.columns.get_loc(target)\n",
        "  dataset = tf.data.Dataset.from_tensor_slices(series)\n",
        "  dataset = dataset.window(window_size + 1, shift=1, drop_remainder=True)\n",
        "  dataset = dataset.flat_map(lambda window: window.batch(window_size + 1))\n",
        "  dataset = dataset.shuffle(shuffle_buffer).map(lambda window: (window[:-1], window[-1,target_colnum]))\n",
        "  dataset = dataset.batch(batch_size).prefetch(1)\n",
        "  return dataset"
      ],
      "execution_count": 0,
      "outputs": []
    },
    {
      "cell_type": "code",
      "metadata": {
        "id": "8nQoc1m-iiRT",
        "colab_type": "code",
        "colab": {}
      },
      "source": [
        "def make_splitdataset(df, split_pos):\n",
        "  x_train = series[:split_pos]\n",
        "  x_valid = series[split_pos:]\n",
        "\n",
        "  ds_train = windowed_dataset(x_train, 'Мощность, МВт', window_size, batch_size, shuffle_buffer=shuffle_buffer_size)\n",
        "  ds_val = windowed_dataset(x_valid, 'Мощность, МВт', window_size, batch_size, shuffle_buffer=shuffle_buffer_size)\n",
        "  return ds_train, ds_val"
      ],
      "execution_count": 0,
      "outputs": []
    },
    {
      "cell_type": "markdown",
      "metadata": {
        "id": "7fS1ypvNCX9v",
        "colab_type": "text"
      },
      "source": [
        "\n",
        "##Сборка и тренировка модели"
      ]
    },
    {
      "cell_type": "code",
      "metadata": {
        "id": "cKXSiZC5kkYp",
        "colab_type": "code",
        "colab": {}
      },
      "source": [
        "def make_model(train_shape):\n",
        "  m = tf.keras.models.Sequential([\n",
        "      tf.keras.layers.LSTM(24, input_shape=(None, train_shape), return_sequences=True),\n",
        "      #tf.keras.layers.Bidirectional(tf.keras.layers.LSTM(16, return_sequences=True)),\n",
        "      tf.keras.layers.LSTM(12),\n",
        "      tf.keras.layers.Dense(1)\n",
        "    ])\n",
        "\n",
        "  lr_schedule = tf.keras.callbacks.LearningRateScheduler(\n",
        "      lambda epoch: 1e-5 * 10**(epoch / 20))\n",
        "\n",
        "  optimizer = tf.keras.optimizers.RMSprop(learning_rate=3e-3)\n",
        "  m.compile(loss=\"mse\", optimizer=optimizer)\n",
        "  return m\n",
        "  \n",
        "def train_model(model, train, validation, epoch_num=200):\n",
        "  history = model.fit(train, validation_data=(validation), epochs=epoch_num)#,callbacks=[lr_schedule])\n",
        "  return history"
      ],
      "execution_count": 0,
      "outputs": []
    },
    {
      "cell_type": "code",
      "metadata": {
        "id": "VncWh7aMClpd",
        "colab_type": "code",
        "colab": {}
      },
      "source": [
        "tf.keras.backend.clear_session()\n",
        "window_size = int(24/4*3)\n",
        "batch_size = 64\n",
        "shuffle_buffer_size = 1000\n",
        "split_datetime = 2500\n",
        "\n"
      ],
      "execution_count": 0,
      "outputs": []
    },
    {
      "cell_type": "code",
      "metadata": {
        "id": "SCF3WRmiELTC",
        "colab_type": "code",
        "colab": {}
      },
      "source": [
        "train, validation = make_splitdataset(series, split_datetime)\n",
        "Model = make_model(series.shape[1])"
      ],
      "execution_count": 0,
      "outputs": []
    },
    {
      "cell_type": "code",
      "metadata": {
        "id": "Kx64y-iQMV5E",
        "colab_type": "code",
        "outputId": "594b4237-6094-45cb-f0ee-620a52890511",
        "colab": {
          "base_uri": "https://localhost:8080/",
          "height": 1000
        }
      },
      "source": [
        "history = train_model(Model, train, validation, 300)"
      ],
      "execution_count": 215,
      "outputs": [
        {
          "output_type": "stream",
          "text": [
            "Epoch 1/300\n",
            "39/39 [==============================] - 1s 25ms/step - loss: 0.6372 - val_loss: 0.2240\n",
            "Epoch 2/300\n",
            "39/39 [==============================] - 0s 11ms/step - loss: 0.3209 - val_loss: 0.1985\n",
            "Epoch 3/300\n",
            "39/39 [==============================] - 0s 10ms/step - loss: 0.2428 - val_loss: 0.1722\n",
            "Epoch 4/300\n",
            "39/39 [==============================] - 0s 9ms/step - loss: 0.2072 - val_loss: 0.1750\n",
            "Epoch 5/300\n",
            "39/39 [==============================] - 0s 10ms/step - loss: 0.1708 - val_loss: 0.1037\n",
            "Epoch 6/300\n",
            "39/39 [==============================] - 0s 8ms/step - loss: 0.1532 - val_loss: 0.1042\n",
            "Epoch 7/300\n",
            "39/39 [==============================] - 0s 9ms/step - loss: 0.1373 - val_loss: 0.0790\n",
            "Epoch 8/300\n",
            "39/39 [==============================] - 0s 9ms/step - loss: 0.1306 - val_loss: 0.1391\n",
            "Epoch 9/300\n",
            "39/39 [==============================] - 0s 9ms/step - loss: 0.1247 - val_loss: 0.1398\n",
            "Epoch 10/300\n",
            "39/39 [==============================] - 0s 8ms/step - loss: 0.1193 - val_loss: 0.1202\n",
            "Epoch 11/300\n",
            "39/39 [==============================] - 0s 9ms/step - loss: 0.1074 - val_loss: 0.1628\n",
            "Epoch 12/300\n",
            "39/39 [==============================] - 0s 10ms/step - loss: 0.1073 - val_loss: 0.0651\n",
            "Epoch 13/300\n",
            "39/39 [==============================] - 0s 11ms/step - loss: 0.0991 - val_loss: 0.0648\n",
            "Epoch 14/300\n",
            "39/39 [==============================] - 0s 10ms/step - loss: 0.0968 - val_loss: 0.0682\n",
            "Epoch 15/300\n",
            "39/39 [==============================] - 0s 11ms/step - loss: 0.0951 - val_loss: 0.2528\n",
            "Epoch 16/300\n",
            "39/39 [==============================] - 0s 9ms/step - loss: 0.0914 - val_loss: 0.1342\n",
            "Epoch 17/300\n",
            "39/39 [==============================] - 0s 9ms/step - loss: 0.0897 - val_loss: 0.0756\n",
            "Epoch 18/300\n",
            "39/39 [==============================] - 0s 9ms/step - loss: 0.0844 - val_loss: 0.0789\n",
            "Epoch 19/300\n",
            "39/39 [==============================] - 0s 8ms/step - loss: 0.0866 - val_loss: 0.2426\n",
            "Epoch 20/300\n",
            "39/39 [==============================] - 0s 8ms/step - loss: 0.0867 - val_loss: 0.1122\n",
            "Epoch 21/300\n",
            "39/39 [==============================] - 0s 10ms/step - loss: 0.0809 - val_loss: 0.0947\n",
            "Epoch 22/300\n",
            "39/39 [==============================] - 0s 10ms/step - loss: 0.0775 - val_loss: 0.0694\n",
            "Epoch 23/300\n",
            "39/39 [==============================] - 0s 10ms/step - loss: 0.0776 - val_loss: 0.1879\n",
            "Epoch 24/300\n",
            "39/39 [==============================] - 0s 9ms/step - loss: 0.0745 - val_loss: 0.0535\n",
            "Epoch 25/300\n",
            "39/39 [==============================] - 0s 9ms/step - loss: 0.0718 - val_loss: 0.0775\n",
            "Epoch 26/300\n",
            "39/39 [==============================] - 0s 9ms/step - loss: 0.0737 - val_loss: 0.0524\n",
            "Epoch 27/300\n",
            "39/39 [==============================] - 0s 10ms/step - loss: 0.0708 - val_loss: 0.0764\n",
            "Epoch 28/300\n",
            "39/39 [==============================] - 0s 9ms/step - loss: 0.0729 - val_loss: 0.0957\n",
            "Epoch 29/300\n",
            "39/39 [==============================] - 0s 9ms/step - loss: 0.0723 - val_loss: 0.0885\n",
            "Epoch 30/300\n",
            "39/39 [==============================] - 0s 9ms/step - loss: 0.0655 - val_loss: 0.1086\n",
            "Epoch 31/300\n",
            "39/39 [==============================] - 0s 8ms/step - loss: 0.0663 - val_loss: 0.0823\n",
            "Epoch 32/300\n",
            "39/39 [==============================] - 0s 11ms/step - loss: 0.0689 - val_loss: 0.0561\n",
            "Epoch 33/300\n",
            "39/39 [==============================] - 0s 11ms/step - loss: 0.0638 - val_loss: 0.0532\n",
            "Epoch 34/300\n",
            "39/39 [==============================] - 0s 10ms/step - loss: 0.0662 - val_loss: 0.0863\n",
            "Epoch 35/300\n",
            "39/39 [==============================] - 0s 9ms/step - loss: 0.0655 - val_loss: 0.0763\n",
            "Epoch 36/300\n",
            "39/39 [==============================] - 0s 10ms/step - loss: 0.0598 - val_loss: 0.0914\n",
            "Epoch 37/300\n",
            "39/39 [==============================] - 0s 11ms/step - loss: 0.0660 - val_loss: 0.0552\n",
            "Epoch 38/300\n",
            "39/39 [==============================] - 0s 11ms/step - loss: 0.0623 - val_loss: 0.0603\n",
            "Epoch 39/300\n",
            "39/39 [==============================] - 0s 9ms/step - loss: 0.0586 - val_loss: 0.1709\n",
            "Epoch 40/300\n",
            "39/39 [==============================] - 0s 10ms/step - loss: 0.0619 - val_loss: 0.1326\n",
            "Epoch 41/300\n",
            "39/39 [==============================] - 0s 9ms/step - loss: 0.0596 - val_loss: 0.0817\n",
            "Epoch 42/300\n",
            "39/39 [==============================] - 0s 10ms/step - loss: 0.0560 - val_loss: 0.0633\n",
            "Epoch 43/300\n",
            "39/39 [==============================] - 0s 9ms/step - loss: 0.0559 - val_loss: 0.0830\n",
            "Epoch 44/300\n",
            "39/39 [==============================] - 0s 9ms/step - loss: 0.0565 - val_loss: 0.1255\n",
            "Epoch 45/300\n",
            "39/39 [==============================] - 0s 10ms/step - loss: 0.0563 - val_loss: 0.1250\n",
            "Epoch 46/300\n",
            "39/39 [==============================] - 0s 10ms/step - loss: 0.0544 - val_loss: 0.0690\n",
            "Epoch 47/300\n",
            "39/39 [==============================] - 0s 10ms/step - loss: 0.0540 - val_loss: 0.0703\n",
            "Epoch 48/300\n",
            "39/39 [==============================] - 0s 9ms/step - loss: 0.0532 - val_loss: 0.0755\n",
            "Epoch 49/300\n",
            "39/39 [==============================] - 0s 10ms/step - loss: 0.0509 - val_loss: 0.0870\n",
            "Epoch 50/300\n",
            "39/39 [==============================] - 0s 8ms/step - loss: 0.0527 - val_loss: 0.0582\n",
            "Epoch 51/300\n",
            "39/39 [==============================] - 0s 9ms/step - loss: 0.0512 - val_loss: 0.0859\n",
            "Epoch 52/300\n",
            "39/39 [==============================] - 0s 11ms/step - loss: 0.0558 - val_loss: 0.0990\n",
            "Epoch 53/300\n",
            "39/39 [==============================] - 0s 10ms/step - loss: 0.0493 - val_loss: 0.0852\n",
            "Epoch 54/300\n",
            "39/39 [==============================] - 0s 10ms/step - loss: 0.0525 - val_loss: 0.0548\n",
            "Epoch 55/300\n",
            "39/39 [==============================] - 0s 9ms/step - loss: 0.0507 - val_loss: 0.0915\n",
            "Epoch 56/300\n",
            "39/39 [==============================] - 0s 9ms/step - loss: 0.0505 - val_loss: 0.1051\n",
            "Epoch 57/300\n",
            "39/39 [==============================] - 0s 11ms/step - loss: 0.0467 - val_loss: 0.0671\n",
            "Epoch 58/300\n",
            "39/39 [==============================] - 0s 8ms/step - loss: 0.0515 - val_loss: 0.0760\n",
            "Epoch 59/300\n",
            "39/39 [==============================] - 0s 10ms/step - loss: 0.0456 - val_loss: 0.0790\n",
            "Epoch 60/300\n",
            "39/39 [==============================] - 0s 9ms/step - loss: 0.0460 - val_loss: 0.0960\n",
            "Epoch 61/300\n",
            "39/39 [==============================] - 0s 10ms/step - loss: 0.0475 - val_loss: 0.0933\n",
            "Epoch 62/300\n",
            "39/39 [==============================] - 0s 9ms/step - loss: 0.0455 - val_loss: 0.1067\n",
            "Epoch 63/300\n",
            "39/39 [==============================] - 0s 8ms/step - loss: 0.0460 - val_loss: 0.0866\n",
            "Epoch 64/300\n",
            "39/39 [==============================] - 0s 9ms/step - loss: 0.0446 - val_loss: 0.0637\n",
            "Epoch 65/300\n",
            "39/39 [==============================] - 0s 8ms/step - loss: 0.0477 - val_loss: 0.0794\n",
            "Epoch 66/300\n",
            "39/39 [==============================] - 0s 9ms/step - loss: 0.0450 - val_loss: 0.0849\n",
            "Epoch 67/300\n",
            "39/39 [==============================] - 0s 11ms/step - loss: 0.0440 - val_loss: 0.0811\n",
            "Epoch 68/300\n",
            "39/39 [==============================] - 0s 10ms/step - loss: 0.0451 - val_loss: 0.1949\n",
            "Epoch 69/300\n",
            "39/39 [==============================] - 0s 11ms/step - loss: 0.0421 - val_loss: 0.0967\n",
            "Epoch 70/300\n",
            "39/39 [==============================] - 0s 8ms/step - loss: 0.0451 - val_loss: 0.1040\n",
            "Epoch 71/300\n",
            "39/39 [==============================] - 0s 10ms/step - loss: 0.0431 - val_loss: 0.0693\n",
            "Epoch 72/300\n",
            "39/39 [==============================] - 0s 9ms/step - loss: 0.0431 - val_loss: 0.0949\n",
            "Epoch 73/300\n",
            "39/39 [==============================] - 0s 10ms/step - loss: 0.0424 - val_loss: 0.1076\n",
            "Epoch 74/300\n",
            "39/39 [==============================] - 0s 8ms/step - loss: 0.0399 - val_loss: 0.0911\n",
            "Epoch 75/300\n",
            "39/39 [==============================] - 0s 9ms/step - loss: 0.0415 - val_loss: 0.0894\n",
            "Epoch 76/300\n",
            "39/39 [==============================] - 0s 10ms/step - loss: 0.0414 - val_loss: 0.1328\n",
            "Epoch 77/300\n",
            "39/39 [==============================] - 0s 8ms/step - loss: 0.0416 - val_loss: 0.1768\n",
            "Epoch 78/300\n",
            "39/39 [==============================] - 0s 9ms/step - loss: 0.0376 - val_loss: 0.1006\n",
            "Epoch 79/300\n",
            "39/39 [==============================] - 0s 9ms/step - loss: 0.0387 - val_loss: 0.0947\n",
            "Epoch 80/300\n",
            "39/39 [==============================] - 0s 9ms/step - loss: 0.0386 - val_loss: 0.0904\n",
            "Epoch 81/300\n",
            "39/39 [==============================] - 0s 9ms/step - loss: 0.0398 - val_loss: 0.0752\n",
            "Epoch 82/300\n",
            "39/39 [==============================] - 0s 8ms/step - loss: 0.0388 - val_loss: 0.0956\n",
            "Epoch 83/300\n",
            "39/39 [==============================] - 0s 9ms/step - loss: 0.0411 - val_loss: 0.0902\n",
            "Epoch 84/300\n",
            "39/39 [==============================] - 0s 8ms/step - loss: 0.0406 - val_loss: 0.0757\n",
            "Epoch 85/300\n",
            "39/39 [==============================] - 0s 9ms/step - loss: 0.0370 - val_loss: 0.0862\n",
            "Epoch 86/300\n",
            "39/39 [==============================] - 0s 10ms/step - loss: 0.0374 - val_loss: 0.0883\n",
            "Epoch 87/300\n",
            "39/39 [==============================] - 0s 11ms/step - loss: 0.0373 - val_loss: 0.1181\n",
            "Epoch 88/300\n",
            "39/39 [==============================] - 0s 9ms/step - loss: 0.0380 - val_loss: 0.1309\n",
            "Epoch 89/300\n",
            "39/39 [==============================] - 0s 9ms/step - loss: 0.0354 - val_loss: 0.0687\n",
            "Epoch 90/300\n",
            "39/39 [==============================] - 0s 8ms/step - loss: 0.0367 - val_loss: 0.0943\n",
            "Epoch 91/300\n",
            "39/39 [==============================] - 0s 8ms/step - loss: 0.0354 - val_loss: 0.0967\n",
            "Epoch 92/300\n",
            "39/39 [==============================] - 0s 10ms/step - loss: 0.0367 - val_loss: 0.0779\n",
            "Epoch 93/300\n",
            "39/39 [==============================] - 0s 10ms/step - loss: 0.0363 - val_loss: 0.1014\n",
            "Epoch 94/300\n",
            "39/39 [==============================] - 0s 9ms/step - loss: 0.0338 - val_loss: 0.1581\n",
            "Epoch 95/300\n",
            "39/39 [==============================] - 0s 10ms/step - loss: 0.0346 - val_loss: 0.0831\n",
            "Epoch 96/300\n",
            "39/39 [==============================] - 0s 10ms/step - loss: 0.0362 - val_loss: 0.1645\n",
            "Epoch 97/300\n",
            "39/39 [==============================] - 0s 11ms/step - loss: 0.0322 - val_loss: 0.1365\n",
            "Epoch 98/300\n",
            "39/39 [==============================] - 0s 11ms/step - loss: 0.0345 - val_loss: 0.1070\n",
            "Epoch 99/300\n",
            "39/39 [==============================] - 0s 10ms/step - loss: 0.0341 - val_loss: 0.0824\n",
            "Epoch 100/300\n",
            "39/39 [==============================] - 0s 9ms/step - loss: 0.0326 - val_loss: 0.0912\n",
            "Epoch 101/300\n",
            "39/39 [==============================] - 0s 8ms/step - loss: 0.0328 - val_loss: 0.1035\n",
            "Epoch 102/300\n",
            "39/39 [==============================] - 0s 11ms/step - loss: 0.0333 - val_loss: 0.0734\n",
            "Epoch 103/300\n",
            "39/39 [==============================] - 0s 10ms/step - loss: 0.0357 - val_loss: 0.0976\n",
            "Epoch 104/300\n",
            "39/39 [==============================] - 0s 10ms/step - loss: 0.0323 - val_loss: 0.1056\n",
            "Epoch 105/300\n",
            "39/39 [==============================] - 0s 9ms/step - loss: 0.0313 - val_loss: 0.1216\n",
            "Epoch 106/300\n",
            "39/39 [==============================] - 0s 9ms/step - loss: 0.0333 - val_loss: 0.0979\n",
            "Epoch 107/300\n",
            "39/39 [==============================] - 0s 10ms/step - loss: 0.0318 - val_loss: 0.0904\n",
            "Epoch 108/300\n",
            "39/39 [==============================] - 0s 8ms/step - loss: 0.0306 - val_loss: 0.1070\n",
            "Epoch 109/300\n",
            "39/39 [==============================] - 0s 10ms/step - loss: 0.0294 - val_loss: 0.1275\n",
            "Epoch 110/300\n",
            "39/39 [==============================] - 0s 8ms/step - loss: 0.0314 - val_loss: 0.0986\n",
            "Epoch 111/300\n",
            "39/39 [==============================] - 0s 10ms/step - loss: 0.0311 - val_loss: 0.1541\n",
            "Epoch 112/300\n",
            "39/39 [==============================] - 0s 10ms/step - loss: 0.0310 - val_loss: 0.1746\n",
            "Epoch 113/300\n",
            "39/39 [==============================] - 0s 10ms/step - loss: 0.0306 - val_loss: 0.1082\n",
            "Epoch 114/300\n",
            "39/39 [==============================] - 0s 10ms/step - loss: 0.0303 - val_loss: 0.1120\n",
            "Epoch 115/300\n",
            "39/39 [==============================] - 0s 11ms/step - loss: 0.0306 - val_loss: 0.0787\n",
            "Epoch 116/300\n",
            "39/39 [==============================] - 0s 11ms/step - loss: 0.0287 - val_loss: 0.0837\n",
            "Epoch 117/300\n",
            "39/39 [==============================] - 0s 10ms/step - loss: 0.0298 - val_loss: 0.0948\n",
            "Epoch 118/300\n",
            "39/39 [==============================] - 0s 10ms/step - loss: 0.0309 - val_loss: 0.1000\n",
            "Epoch 119/300\n",
            "39/39 [==============================] - 0s 10ms/step - loss: 0.0284 - val_loss: 0.0918\n",
            "Epoch 120/300\n",
            "39/39 [==============================] - 0s 10ms/step - loss: 0.0301 - val_loss: 0.1013\n",
            "Epoch 121/300\n",
            "39/39 [==============================] - 0s 8ms/step - loss: 0.0282 - val_loss: 0.1199\n",
            "Epoch 122/300\n",
            "39/39 [==============================] - 0s 10ms/step - loss: 0.0284 - val_loss: 0.0686\n",
            "Epoch 123/300\n",
            "39/39 [==============================] - 0s 11ms/step - loss: 0.0280 - val_loss: 0.0896\n",
            "Epoch 124/300\n",
            "39/39 [==============================] - 0s 9ms/step - loss: 0.0272 - val_loss: 0.0775\n",
            "Epoch 125/300\n",
            "39/39 [==============================] - 0s 8ms/step - loss: 0.0282 - val_loss: 0.1692\n",
            "Epoch 126/300\n",
            "39/39 [==============================] - 0s 9ms/step - loss: 0.0275 - val_loss: 0.1250\n",
            "Epoch 127/300\n",
            "39/39 [==============================] - 0s 9ms/step - loss: 0.0276 - val_loss: 0.0956\n",
            "Epoch 128/300\n",
            "39/39 [==============================] - 0s 11ms/step - loss: 0.0278 - val_loss: 0.1126\n",
            "Epoch 129/300\n",
            "39/39 [==============================] - 0s 10ms/step - loss: 0.0266 - val_loss: 0.1884\n",
            "Epoch 130/300\n",
            "39/39 [==============================] - 0s 8ms/step - loss: 0.0265 - val_loss: 0.1213\n",
            "Epoch 131/300\n",
            "39/39 [==============================] - 0s 9ms/step - loss: 0.0268 - val_loss: 0.0928\n",
            "Epoch 132/300\n",
            "39/39 [==============================] - 0s 9ms/step - loss: 0.0265 - val_loss: 0.1113\n",
            "Epoch 133/300\n",
            "39/39 [==============================] - 0s 9ms/step - loss: 0.0257 - val_loss: 0.1157\n",
            "Epoch 134/300\n",
            "39/39 [==============================] - 0s 9ms/step - loss: 0.0253 - val_loss: 0.1086\n",
            "Epoch 135/300\n",
            "39/39 [==============================] - 0s 10ms/step - loss: 0.0261 - val_loss: 0.1157\n",
            "Epoch 136/300\n",
            "39/39 [==============================] - 0s 8ms/step - loss: 0.0262 - val_loss: 0.1874\n",
            "Epoch 137/300\n",
            "39/39 [==============================] - 0s 11ms/step - loss: 0.0245 - val_loss: 0.0782\n",
            "Epoch 138/300\n",
            "39/39 [==============================] - 0s 10ms/step - loss: 0.0265 - val_loss: 0.1107\n",
            "Epoch 139/300\n",
            "39/39 [==============================] - 0s 11ms/step - loss: 0.0256 - val_loss: 0.0722\n",
            "Epoch 140/300\n",
            "39/39 [==============================] - 0s 10ms/step - loss: 0.0258 - val_loss: 0.1173\n",
            "Epoch 141/300\n",
            "39/39 [==============================] - 0s 10ms/step - loss: 0.0253 - val_loss: 0.1116\n",
            "Epoch 142/300\n",
            "39/39 [==============================] - 0s 10ms/step - loss: 0.0230 - val_loss: 0.1263\n",
            "Epoch 143/300\n",
            "39/39 [==============================] - 0s 10ms/step - loss: 0.0249 - val_loss: 0.0884\n",
            "Epoch 144/300\n",
            "39/39 [==============================] - 0s 11ms/step - loss: 0.0232 - val_loss: 0.1124\n",
            "Epoch 145/300\n",
            "39/39 [==============================] - 0s 9ms/step - loss: 0.0240 - val_loss: 0.2084\n",
            "Epoch 146/300\n",
            "39/39 [==============================] - 0s 9ms/step - loss: 0.0276 - val_loss: 0.1060\n",
            "Epoch 147/300\n",
            "39/39 [==============================] - 0s 8ms/step - loss: 0.0234 - val_loss: 0.0976\n",
            "Epoch 148/300\n",
            "39/39 [==============================] - 0s 11ms/step - loss: 0.0253 - val_loss: 0.0804\n",
            "Epoch 149/300\n",
            "39/39 [==============================] - 0s 9ms/step - loss: 0.0237 - val_loss: 0.0949\n",
            "Epoch 150/300\n",
            "39/39 [==============================] - 0s 10ms/step - loss: 0.0239 - val_loss: 0.1204\n",
            "Epoch 151/300\n",
            "39/39 [==============================] - 0s 9ms/step - loss: 0.0213 - val_loss: 0.0997\n",
            "Epoch 152/300\n",
            "39/39 [==============================] - 0s 10ms/step - loss: 0.0250 - val_loss: 0.0912\n",
            "Epoch 153/300\n",
            "39/39 [==============================] - 0s 9ms/step - loss: 0.0230 - val_loss: 0.1220\n",
            "Epoch 154/300\n",
            "39/39 [==============================] - 0s 8ms/step - loss: 0.0214 - val_loss: 0.1230\n",
            "Epoch 155/300\n",
            "39/39 [==============================] - 0s 10ms/step - loss: 0.0233 - val_loss: 0.1009\n",
            "Epoch 156/300\n",
            "39/39 [==============================] - 0s 10ms/step - loss: 0.0225 - val_loss: 0.1029\n",
            "Epoch 157/300\n",
            "39/39 [==============================] - 0s 9ms/step - loss: 0.0208 - val_loss: 0.0960\n",
            "Epoch 158/300\n",
            "39/39 [==============================] - 0s 9ms/step - loss: 0.0217 - val_loss: 0.1020\n",
            "Epoch 159/300\n",
            "39/39 [==============================] - 0s 11ms/step - loss: 0.0231 - val_loss: 0.0679\n",
            "Epoch 160/300\n",
            "39/39 [==============================] - 0s 9ms/step - loss: 0.0233 - val_loss: 0.0956\n",
            "Epoch 161/300\n",
            "39/39 [==============================] - 0s 9ms/step - loss: 0.0208 - val_loss: 0.1225\n",
            "Epoch 162/300\n",
            "39/39 [==============================] - 0s 10ms/step - loss: 0.0216 - val_loss: 0.0937\n",
            "Epoch 163/300\n",
            "39/39 [==============================] - 0s 8ms/step - loss: 0.0208 - val_loss: 0.1256\n",
            "Epoch 164/300\n",
            "39/39 [==============================] - 0s 9ms/step - loss: 0.0199 - val_loss: 0.0923\n",
            "Epoch 165/300\n",
            "39/39 [==============================] - 0s 10ms/step - loss: 0.0197 - val_loss: 0.0882\n",
            "Epoch 166/300\n",
            "39/39 [==============================] - 0s 9ms/step - loss: 0.0217 - val_loss: 0.0952\n",
            "Epoch 167/300\n",
            "39/39 [==============================] - 0s 8ms/step - loss: 0.0201 - val_loss: 0.1289\n",
            "Epoch 168/300\n",
            "39/39 [==============================] - 0s 9ms/step - loss: 0.0211 - val_loss: 0.0846\n",
            "Epoch 169/300\n",
            "39/39 [==============================] - 0s 10ms/step - loss: 0.0211 - val_loss: 0.0907\n",
            "Epoch 170/300\n",
            "39/39 [==============================] - 0s 8ms/step - loss: 0.0210 - val_loss: 0.1308\n",
            "Epoch 171/300\n",
            "39/39 [==============================] - 0s 9ms/step - loss: 0.0200 - val_loss: 0.1022\n",
            "Epoch 172/300\n",
            "39/39 [==============================] - 0s 8ms/step - loss: 0.0209 - val_loss: 0.0672\n",
            "Epoch 173/300\n",
            "39/39 [==============================] - 0s 10ms/step - loss: 0.0227 - val_loss: 0.0930\n",
            "Epoch 174/300\n",
            "39/39 [==============================] - 0s 11ms/step - loss: 0.0200 - val_loss: 0.1073\n",
            "Epoch 175/300\n",
            "39/39 [==============================] - 0s 11ms/step - loss: 0.0194 - val_loss: 0.1834\n",
            "Epoch 176/300\n",
            "39/39 [==============================] - 0s 10ms/step - loss: 0.0193 - val_loss: 0.0872\n",
            "Epoch 177/300\n",
            "39/39 [==============================] - 0s 11ms/step - loss: 0.0188 - val_loss: 0.0836\n",
            "Epoch 178/300\n",
            "39/39 [==============================] - 0s 11ms/step - loss: 0.0206 - val_loss: 0.0971\n",
            "Epoch 179/300\n",
            "39/39 [==============================] - 0s 10ms/step - loss: 0.0197 - val_loss: 0.1054\n",
            "Epoch 180/300\n",
            "39/39 [==============================] - 0s 9ms/step - loss: 0.0194 - val_loss: 0.1107\n",
            "Epoch 181/300\n",
            "39/39 [==============================] - 0s 10ms/step - loss: 0.0195 - val_loss: 0.0986\n",
            "Epoch 182/300\n",
            "39/39 [==============================] - 0s 10ms/step - loss: 0.0180 - val_loss: 0.1464\n",
            "Epoch 183/300\n",
            "39/39 [==============================] - 0s 10ms/step - loss: 0.0205 - val_loss: 0.1086\n",
            "Epoch 184/300\n",
            "39/39 [==============================] - 0s 9ms/step - loss: 0.0172 - val_loss: 0.0857\n",
            "Epoch 185/300\n",
            "39/39 [==============================] - 0s 10ms/step - loss: 0.0195 - val_loss: 0.0793\n",
            "Epoch 186/300\n",
            "39/39 [==============================] - 0s 9ms/step - loss: 0.0186 - val_loss: 0.1085\n",
            "Epoch 187/300\n",
            "39/39 [==============================] - 0s 9ms/step - loss: 0.0176 - val_loss: 0.0932\n",
            "Epoch 188/300\n",
            "39/39 [==============================] - 0s 10ms/step - loss: 0.0182 - val_loss: 0.0928\n",
            "Epoch 189/300\n",
            "39/39 [==============================] - 0s 10ms/step - loss: 0.0166 - val_loss: 0.0991\n",
            "Epoch 190/300\n",
            "39/39 [==============================] - 0s 9ms/step - loss: 0.0187 - val_loss: 0.1108\n",
            "Epoch 191/300\n",
            "39/39 [==============================] - 0s 8ms/step - loss: 0.0171 - val_loss: 0.0976\n",
            "Epoch 192/300\n",
            "39/39 [==============================] - 0s 8ms/step - loss: 0.0185 - val_loss: 0.1019\n",
            "Epoch 193/300\n",
            "39/39 [==============================] - 0s 11ms/step - loss: 0.0176 - val_loss: 0.1149\n",
            "Epoch 194/300\n",
            "39/39 [==============================] - 0s 9ms/step - loss: 0.0176 - val_loss: 0.0747\n",
            "Epoch 195/300\n",
            "39/39 [==============================] - 0s 9ms/step - loss: 0.0168 - val_loss: 0.1273\n",
            "Epoch 196/300\n",
            "39/39 [==============================] - 0s 9ms/step - loss: 0.0185 - val_loss: 0.1139\n",
            "Epoch 197/300\n",
            "39/39 [==============================] - 0s 8ms/step - loss: 0.0174 - val_loss: 0.0942\n",
            "Epoch 198/300\n",
            "39/39 [==============================] - 0s 10ms/step - loss: 0.0175 - val_loss: 0.1697\n",
            "Epoch 199/300\n",
            "39/39 [==============================] - 0s 10ms/step - loss: 0.0166 - val_loss: 0.0830\n",
            "Epoch 200/300\n",
            "39/39 [==============================] - 0s 11ms/step - loss: 0.0167 - val_loss: 0.1112\n",
            "Epoch 201/300\n",
            "39/39 [==============================] - 0s 9ms/step - loss: 0.0171 - val_loss: 0.1017\n",
            "Epoch 202/300\n",
            "39/39 [==============================] - 0s 9ms/step - loss: 0.0172 - val_loss: 0.1089\n",
            "Epoch 203/300\n",
            "39/39 [==============================] - 0s 10ms/step - loss: 0.0176 - val_loss: 0.1417\n",
            "Epoch 204/300\n",
            "39/39 [==============================] - 0s 9ms/step - loss: 0.0158 - val_loss: 0.1189\n",
            "Epoch 205/300\n",
            "39/39 [==============================] - 0s 9ms/step - loss: 0.0171 - val_loss: 0.1062\n",
            "Epoch 206/300\n",
            "39/39 [==============================] - 0s 10ms/step - loss: 0.0159 - val_loss: 0.1090\n",
            "Epoch 207/300\n",
            "39/39 [==============================] - 0s 10ms/step - loss: 0.0169 - val_loss: 0.1192\n",
            "Epoch 208/300\n",
            "39/39 [==============================] - 0s 8ms/step - loss: 0.0154 - val_loss: 0.0862\n",
            "Epoch 209/300\n",
            "39/39 [==============================] - 0s 9ms/step - loss: 0.0172 - val_loss: 0.1654\n",
            "Epoch 210/300\n",
            "39/39 [==============================] - 0s 10ms/step - loss: 0.0164 - val_loss: 0.2034\n",
            "Epoch 211/300\n",
            "39/39 [==============================] - 0s 9ms/step - loss: 0.0157 - val_loss: 0.0850\n",
            "Epoch 212/300\n",
            "39/39 [==============================] - 0s 10ms/step - loss: 0.0151 - val_loss: 0.1150\n",
            "Epoch 213/300\n",
            "39/39 [==============================] - 0s 9ms/step - loss: 0.0154 - val_loss: 0.1093\n",
            "Epoch 214/300\n",
            "39/39 [==============================] - 0s 9ms/step - loss: 0.0155 - val_loss: 0.0979\n",
            "Epoch 215/300\n",
            "39/39 [==============================] - 0s 10ms/step - loss: 0.0145 - val_loss: 0.0846\n",
            "Epoch 216/300\n",
            "39/39 [==============================] - 0s 11ms/step - loss: 0.0164 - val_loss: 0.0940\n",
            "Epoch 217/300\n",
            "39/39 [==============================] - 0s 11ms/step - loss: 0.0156 - val_loss: 0.1021\n",
            "Epoch 218/300\n",
            "39/39 [==============================] - 0s 9ms/step - loss: 0.0159 - val_loss: 0.0992\n",
            "Epoch 219/300\n",
            "39/39 [==============================] - 0s 10ms/step - loss: 0.0152 - val_loss: 0.0745\n",
            "Epoch 220/300\n",
            "39/39 [==============================] - 0s 11ms/step - loss: 0.0138 - val_loss: 0.1438\n",
            "Epoch 221/300\n",
            "39/39 [==============================] - 0s 10ms/step - loss: 0.0152 - val_loss: 0.0961\n",
            "Epoch 222/300\n",
            "39/39 [==============================] - 0s 9ms/step - loss: 0.0146 - val_loss: 0.1187\n",
            "Epoch 223/300\n",
            "39/39 [==============================] - 0s 8ms/step - loss: 0.0139 - val_loss: 0.0951\n",
            "Epoch 224/300\n",
            "39/39 [==============================] - 0s 10ms/step - loss: 0.0159 - val_loss: 0.1013\n",
            "Epoch 225/300\n",
            "39/39 [==============================] - 0s 9ms/step - loss: 0.0137 - val_loss: 0.1097\n",
            "Epoch 226/300\n",
            "39/39 [==============================] - 0s 10ms/step - loss: 0.0149 - val_loss: 0.1291\n",
            "Epoch 227/300\n",
            "39/39 [==============================] - 0s 9ms/step - loss: 0.0132 - val_loss: 0.0802\n",
            "Epoch 228/300\n",
            "39/39 [==============================] - 0s 10ms/step - loss: 0.0144 - val_loss: 0.0948\n",
            "Epoch 229/300\n",
            "39/39 [==============================] - 0s 11ms/step - loss: 0.0138 - val_loss: 0.1168\n",
            "Epoch 230/300\n",
            "39/39 [==============================] - 0s 10ms/step - loss: 0.0146 - val_loss: 0.0876\n",
            "Epoch 231/300\n",
            "39/39 [==============================] - 0s 8ms/step - loss: 0.0143 - val_loss: 0.1445\n",
            "Epoch 232/300\n",
            "39/39 [==============================] - 0s 9ms/step - loss: 0.0130 - val_loss: 0.1164\n",
            "Epoch 233/300\n",
            "39/39 [==============================] - 0s 10ms/step - loss: 0.0143 - val_loss: 0.1288\n",
            "Epoch 234/300\n",
            "39/39 [==============================] - 0s 8ms/step - loss: 0.0139 - val_loss: 0.0936\n",
            "Epoch 235/300\n",
            "39/39 [==============================] - 0s 10ms/step - loss: 0.0137 - val_loss: 0.1364\n",
            "Epoch 236/300\n",
            "39/39 [==============================] - 0s 8ms/step - loss: 0.0126 - val_loss: 0.0938\n",
            "Epoch 237/300\n",
            "39/39 [==============================] - 0s 8ms/step - loss: 0.0135 - val_loss: 0.1105\n",
            "Epoch 238/300\n",
            "39/39 [==============================] - 0s 11ms/step - loss: 0.0133 - val_loss: 0.0905\n",
            "Epoch 239/300\n",
            "39/39 [==============================] - 0s 8ms/step - loss: 0.0129 - val_loss: 0.1487\n",
            "Epoch 240/300\n",
            "39/39 [==============================] - 0s 11ms/step - loss: 0.0141 - val_loss: 0.1090\n",
            "Epoch 241/300\n",
            "39/39 [==============================] - 0s 9ms/step - loss: 0.0136 - val_loss: 0.0972\n",
            "Epoch 242/300\n",
            "39/39 [==============================] - 0s 10ms/step - loss: 0.0128 - val_loss: 0.1030\n",
            "Epoch 243/300\n",
            "39/39 [==============================] - 0s 9ms/step - loss: 0.0120 - val_loss: 0.0963\n",
            "Epoch 244/300\n",
            "39/39 [==============================] - 0s 9ms/step - loss: 0.0130 - val_loss: 0.0925\n",
            "Epoch 245/300\n",
            "39/39 [==============================] - 0s 9ms/step - loss: 0.0120 - val_loss: 0.1082\n",
            "Epoch 246/300\n",
            "39/39 [==============================] - 0s 8ms/step - loss: 0.0130 - val_loss: 0.0974\n",
            "Epoch 247/300\n",
            "39/39 [==============================] - 0s 9ms/step - loss: 0.0121 - val_loss: 0.0937\n",
            "Epoch 248/300\n",
            "39/39 [==============================] - 0s 8ms/step - loss: 0.0136 - val_loss: 0.1294\n",
            "Epoch 249/300\n",
            "39/39 [==============================] - 0s 9ms/step - loss: 0.0129 - val_loss: 0.1078\n",
            "Epoch 250/300\n",
            "39/39 [==============================] - 0s 9ms/step - loss: 0.0121 - val_loss: 0.1143\n",
            "Epoch 251/300\n",
            "39/39 [==============================] - 0s 9ms/step - loss: 0.0120 - val_loss: 0.1520\n",
            "Epoch 252/300\n",
            "39/39 [==============================] - 0s 10ms/step - loss: 0.0120 - val_loss: 0.2012\n",
            "Epoch 253/300\n",
            "39/39 [==============================] - 0s 9ms/step - loss: 0.0112 - val_loss: 0.1018\n",
            "Epoch 254/300\n",
            "39/39 [==============================] - 0s 8ms/step - loss: 0.0121 - val_loss: 0.0997\n",
            "Epoch 255/300\n",
            "39/39 [==============================] - 0s 11ms/step - loss: 0.0136 - val_loss: 0.0921\n",
            "Epoch 256/300\n",
            "39/39 [==============================] - 0s 11ms/step - loss: 0.0118 - val_loss: 0.1017\n",
            "Epoch 257/300\n",
            "39/39 [==============================] - 0s 11ms/step - loss: 0.0116 - val_loss: 0.1050\n",
            "Epoch 258/300\n",
            "39/39 [==============================] - 0s 8ms/step - loss: 0.0121 - val_loss: 0.1078\n",
            "Epoch 259/300\n",
            "39/39 [==============================] - 0s 11ms/step - loss: 0.0125 - val_loss: 0.0944\n",
            "Epoch 260/300\n",
            "39/39 [==============================] - 0s 9ms/step - loss: 0.0121 - val_loss: 0.1098\n",
            "Epoch 261/300\n",
            "39/39 [==============================] - 0s 9ms/step - loss: 0.0112 - val_loss: 0.0969\n",
            "Epoch 262/300\n",
            "39/39 [==============================] - 0s 10ms/step - loss: 0.0123 - val_loss: 0.0964\n",
            "Epoch 263/300\n",
            "39/39 [==============================] - 0s 9ms/step - loss: 0.0120 - val_loss: 0.1465\n",
            "Epoch 264/300\n",
            "39/39 [==============================] - 0s 10ms/step - loss: 0.0111 - val_loss: 0.1067\n",
            "Epoch 265/300\n",
            "39/39 [==============================] - 0s 8ms/step - loss: 0.0106 - val_loss: 0.1046\n",
            "Epoch 266/300\n",
            "39/39 [==============================] - 0s 10ms/step - loss: 0.0112 - val_loss: 0.0986\n",
            "Epoch 267/300\n",
            "39/39 [==============================] - 0s 8ms/step - loss: 0.0121 - val_loss: 0.0999\n",
            "Epoch 268/300\n",
            "39/39 [==============================] - 0s 9ms/step - loss: 0.0106 - val_loss: 0.0923\n",
            "Epoch 269/300\n",
            "39/39 [==============================] - 0s 10ms/step - loss: 0.0101 - val_loss: 0.1159\n",
            "Epoch 270/300\n",
            "39/39 [==============================] - 0s 8ms/step - loss: 0.0112 - val_loss: 0.1503\n",
            "Epoch 271/300\n",
            "39/39 [==============================] - 0s 9ms/step - loss: 0.0096 - val_loss: 0.0950\n",
            "Epoch 272/300\n",
            "39/39 [==============================] - 0s 9ms/step - loss: 0.0124 - val_loss: 0.1190\n",
            "Epoch 273/300\n",
            "39/39 [==============================] - 0s 9ms/step - loss: 0.0107 - val_loss: 0.0879\n",
            "Epoch 274/300\n",
            "39/39 [==============================] - 0s 9ms/step - loss: 0.0107 - val_loss: 0.1051\n",
            "Epoch 275/300\n",
            "39/39 [==============================] - 0s 9ms/step - loss: 0.0112 - val_loss: 0.1141\n",
            "Epoch 276/300\n",
            "39/39 [==============================] - 0s 9ms/step - loss: 0.0100 - val_loss: 0.1017\n",
            "Epoch 277/300\n",
            "39/39 [==============================] - 0s 10ms/step - loss: 0.0115 - val_loss: 0.0988\n",
            "Epoch 278/300\n",
            "39/39 [==============================] - 0s 8ms/step - loss: 0.0110 - val_loss: 0.0864\n",
            "Epoch 279/300\n",
            "39/39 [==============================] - 0s 8ms/step - loss: 0.0101 - val_loss: 0.1206\n",
            "Epoch 280/300\n",
            "39/39 [==============================] - 0s 8ms/step - loss: 0.0107 - val_loss: 0.0986\n",
            "Epoch 281/300\n",
            "39/39 [==============================] - 0s 10ms/step - loss: 0.0114 - val_loss: 0.0917\n",
            "Epoch 282/300\n",
            "39/39 [==============================] - 0s 10ms/step - loss: 0.0098 - val_loss: 0.1120\n",
            "Epoch 283/300\n",
            "39/39 [==============================] - 0s 8ms/step - loss: 0.0102 - val_loss: 0.0939\n",
            "Epoch 284/300\n",
            "39/39 [==============================] - 0s 10ms/step - loss: 0.0097 - val_loss: 0.0771\n",
            "Epoch 285/300\n",
            "39/39 [==============================] - 0s 8ms/step - loss: 0.0092 - val_loss: 0.0825\n",
            "Epoch 286/300\n",
            "39/39 [==============================] - 0s 9ms/step - loss: 0.0102 - val_loss: 0.0997\n",
            "Epoch 287/300\n",
            "39/39 [==============================] - 0s 9ms/step - loss: 0.0106 - val_loss: 0.0937\n",
            "Epoch 288/300\n",
            "39/39 [==============================] - 0s 8ms/step - loss: 0.0091 - val_loss: 0.1018\n",
            "Epoch 289/300\n",
            "39/39 [==============================] - 0s 10ms/step - loss: 0.0100 - val_loss: 0.1179\n",
            "Epoch 290/300\n",
            "39/39 [==============================] - 0s 9ms/step - loss: 0.0091 - val_loss: 0.1013\n",
            "Epoch 291/300\n",
            "39/39 [==============================] - 0s 10ms/step - loss: 0.0108 - val_loss: 0.0971\n",
            "Epoch 292/300\n",
            "39/39 [==============================] - 0s 10ms/step - loss: 0.0092 - val_loss: 0.0797\n",
            "Epoch 293/300\n",
            "39/39 [==============================] - 0s 10ms/step - loss: 0.0139 - val_loss: 0.0751\n",
            "Epoch 294/300\n",
            "39/39 [==============================] - 0s 9ms/step - loss: 0.0112 - val_loss: 0.1156\n",
            "Epoch 295/300\n",
            "39/39 [==============================] - 0s 8ms/step - loss: 0.0105 - val_loss: 0.0980\n",
            "Epoch 296/300\n",
            "39/39 [==============================] - 0s 9ms/step - loss: 0.0092 - val_loss: 0.0949\n",
            "Epoch 297/300\n",
            "39/39 [==============================] - 0s 8ms/step - loss: 0.0096 - val_loss: 0.1373\n",
            "Epoch 298/300\n",
            "39/39 [==============================] - 0s 11ms/step - loss: 0.0092 - val_loss: 0.1041\n",
            "Epoch 299/300\n",
            "39/39 [==============================] - 0s 11ms/step - loss: 0.0095 - val_loss: 0.0974\n",
            "Epoch 300/300\n",
            "39/39 [==============================] - 0s 10ms/step - loss: 0.0095 - val_loss: 0.0881\n"
          ],
          "name": "stdout"
        }
      ]
    },
    {
      "cell_type": "code",
      "metadata": {
        "id": "O8bOgJGQ62re",
        "colab_type": "code",
        "colab": {}
      },
      "source": [
        "import matplotlib.pyplot as plt\n",
        " \n",
        "# lrs = 1e-5 * (10 ** (np.arange(epoch_num) / 20))\n",
        "# plt.semilogx(lrs, history.history[\"val_loss\"][:])\n",
        "# # plt.axis([1e-5, 200, 0, 20])"
      ],
      "execution_count": 0,
      "outputs": []
    },
    {
      "cell_type": "markdown",
      "metadata": {
        "id": "I015ObNQBoaH",
        "colab_type": "text"
      },
      "source": [
        "###Анализ функции потерь"
      ]
    },
    {
      "cell_type": "code",
      "metadata": {
        "id": "YNV-Y5-M6IxI",
        "colab_type": "code",
        "outputId": "ad2133ca-eace-4f81-81c4-714298315149",
        "colab": {
          "base_uri": "https://localhost:8080/",
          "height": 265
        }
      },
      "source": [
        "loss = history.history['loss']\n",
        "epochs = range(len(loss))\n",
        "plt.plot(epochs, loss, 'b', label='Training Loss')\n",
        "plt.show()"
      ],
      "execution_count": 202,
      "outputs": [
        {
          "output_type": "display_data",
          "data": {
            "image/png": "[encoded data removed]",
            "text/plain": [
              "<Figure size 432x288 with 1 Axes>"
            ]
          },
          "metadata": {
            "tags": [],
            "needs_background": "light"
          }
        }
      ]
    },
    {
      "cell_type": "code",
      "metadata": {
        "id": "ruy_BKEMICYG",
        "colab_type": "code",
        "outputId": "3d9f9c7b-e16b-4907-8e9e-ce581f00b562",
        "colab": {
          "base_uri": "https://localhost:8080/",
          "height": 302
        }
      },
      "source": [
        "# Plot all but the first 10\n",
        "loss = history.history['loss']\n",
        "startpos= 50\n",
        "epochs = range(50, len(loss))\n",
        "plot_loss = loss[50:]\n",
        "print(plot_loss)\n",
        "plt.plot(epochs, plot_loss, 'b', label='Training Loss')\n",
        "plt.show()"
      ],
      "execution_count": 203,
      "outputs": [
        {
          "output_type": "stream",
          "text": [
            "[0.0538829043507576, 0.05609988048672676, 0.05302437022328377, 0.053885843604803085, 0.05510684847831726, 0.05151498690247536, 0.048919834196567535, 0.04949319735169411, 0.05134197324514389, 0.049099165946245193, 0.04875560849905014, 0.046709101647138596, 0.04534587264060974, 0.05161408334970474, 0.04370785877108574, 0.044906701892614365, 0.0460544154047966, 0.0450814887881279, 0.04379083588719368, 0.0445503331720829, 0.04332055523991585, 0.04303724691271782, 0.04149259626865387, 0.047433748841285706, 0.04056675359606743, 0.041280824691057205, 0.03897581994533539, 0.039376966655254364, 0.03792378306388855, 0.038461584597826004, 0.040249280631542206, 0.037623196840286255, 0.036235261708498, 0.03971592336893082, 0.032551635056734085, 0.0402655303478241, 0.03294793888926506, 0.034176573157310486, 0.035801343619823456, 0.03254888579249382, 0.03447931259870529, 0.034768249839544296, 0.033987775444984436, 0.03284073993563652, 0.031443968415260315, 0.032018035650253296, 0.029236292466521263, 0.030017515644431114, 0.030109649524092674, 0.03130830451846123, 0.029608815908432007, 0.028167834505438805, 0.03153255954384804, 0.027180461212992668, 0.028205547481775284, 0.028360500931739807, 0.02665034867823124, 0.02993541583418846, 0.02711651660501957, 0.029115544632077217, 0.027593182399868965, 0.026558589190244675, 0.02760179527103901, 0.027638081461191177, 0.02887336164712906, 0.026043839752674103, 0.025900287553668022, 0.026429276913404465, 0.026191921904683113, 0.026226481422781944, 0.02634640596807003, 0.022711297497153282, 0.023529144003987312, 0.02399376407265663, 0.02468377724289894, 0.02462623454630375, 0.022510167211294174, 0.023926259949803352, 0.02454548329114914, 0.022224148735404015, 0.022409552708268166, 0.02526707388460636, 0.021150333806872368, 0.021340707316994667, 0.02177209034562111, 0.02074134722352028, 0.020608345046639442, 0.02158491499722004, 0.020020242780447006, 0.021049384027719498, 0.02052418887615204, 0.019145376980304718, 0.01903076283633709, 0.020457535982131958, 0.02022181823849678, 0.020426569506525993, 0.021595600992441177, 0.020331181585788727, 0.01920451782643795, 0.02037188410758972, 0.019223710522055626, 0.01972397230565548, 0.01935986429452896, 0.018580308184027672, 0.01867718994617462, 0.018989197909832, 0.01898896135389805, 0.017789620906114578, 0.021603111177682877, 0.01826629415154457, 0.017160052433609962, 0.01804143562912941, 0.016720199957489967, 0.01931968703866005, 0.017298225313425064, 0.016293352469801903, 0.017290202900767326, 0.016333548352122307, 0.01677291840314865, 0.016731031239032745, 0.016622966155409813, 0.015760187059640884, 0.01631227135658264, 0.0163995623588562, 0.016368823125958443, 0.016742415726184845, 0.016334952786564827, 0.015672458335757256, 0.01581907644867897, 0.014624571427702904, 0.016718165948987007, 0.015073289163410664, 0.017196860164403915, 0.014373989775776863, 0.01446420419961214, 0.016372494399547577, 0.013769080862402916, 0.01570381224155426, 0.014531508088111877, 0.015520937740802765, 0.016046877950429916, 0.015151161700487137, 0.013203284703195095, 0.014480039477348328, 0.015477371402084827, 0.013764524832367897, 0.014038842171430588, 0.01398606039583683, 0.014483551494777203, 0.013021307066082954, 0.014051740057766438, 0.013398556970059872, 0.014942622743546963, 0.01282508671283722, 0.013444680720567703, 0.012439768761396408, 0.014024184085428715, 0.012221298180520535, 0.012412781827151775, 0.012255998328328133, 0.013591988012194633, 0.013717501424252987, 0.012273618020117283, 0.012517117895185947, 0.012292129918932915, 0.01229478046298027, 0.013310899958014488, 0.0128687284886837, 0.01194933895021677, 0.010947088710963726, 0.011816154234111309, 0.011522567830979824, 0.013189537450671196, 0.010596537962555885, 0.01336610596626997, 0.011974632740020752, 0.01271307934075594, 0.01244833692908287, 0.010915647260844707, 0.010792952962219715, 0.012871076352894306, 0.0121412742882967, 0.010657526552677155, 0.011068396270275116, 0.011402091011404991, 0.009987144730985165, 0.0123834777623415, 0.011435453779995441, 0.01105431281030178, 0.009846661239862442, 0.01150328479707241, 0.012239592149853706, 0.009782379493117332, 0.011565777473151684, 0.010215655900537968, 0.01050917524844408, 0.010073663666844368, 0.01116397324949503, 0.009032540954649448, 0.010847529396414757, 0.009982557967305183, 0.010797424241900444, 0.00962011981755495, 0.010482182726264, 0.010736484080553055, 0.010038940235972404, 0.009858871810138226, 0.009161056950688362, 0.009644879959523678, 0.009925627149641514, 0.010419766418635845, 0.009114985354244709, 0.010274616070091724, 0.009184966795146465, 0.009516671299934387, 0.009110771119594574, 0.00941735040396452, 0.009657541289925575, 0.009599579498171806, 0.008606999181210995, 0.009425240568816662, 0.00931211281567812, 0.00868246890604496, 0.009604807943105698, 0.008756347000598907, 0.010144881904125214, 0.008032542653381824, 0.009473884478211403, 0.009094150736927986, 0.009479142725467682, 0.008098840713500977, 0.008050264790654182, 0.009189645759761333, 0.007882248610258102, 0.009590284898877144, 0.00809358898550272, 0.009147808887064457, 0.009500911459326744, 0.008261495269834995, 0.008623745292425156, 0.007911380380392075, 0.009122475981712341, 0.008404867723584175, 0.009438830427825451, 0.008156254887580872, 0.008004218339920044, 0.00813146959990263, 0.00845359731465578, 0.008297218009829521, 0.008007878437638283]\n"
          ],
          "name": "stdout"
        },
        {
          "output_type": "display_data",
          "data": {
            "image/png": "[encoded data removed]",
            "text/plain": [
              "<Figure size 432x288 with 1 Axes>"
            ]
          },
          "metadata": {
            "tags": [],
            "needs_background": "light"
          }
        }
      ]
    },
    {
      "cell_type": "code",
      "metadata": {
        "id": "rwNjujB77xgE",
        "colab_type": "code",
        "outputId": "f92ee16a-e929-42bf-dbc2-30bdeb947e73",
        "colab": {
          "base_uri": "https://localhost:8080/",
          "height": 607
        }
      },
      "source": [
        "val_loss=history.history['val_loss']\n",
        "loss=history.history['loss']\n",
        "\n",
        "epochs=range(len(loss)) # Get number of epochs\n",
        "\n",
        "#------------------------------------------------\n",
        "# Plot validate loss and Loss\n",
        "#------------------------------------------------\n",
        "plt.plot(epochs, val_loss, 'r')\n",
        "plt.plot(epochs, loss, 'b')\n",
        "plt.title('validate loss and Loss')\n",
        "plt.xlabel(\"Epochs\")\n",
        "plt.ylabel(\"Accuracy\")\n",
        "plt.legend([\"validate loss\", \"Loss\"])\n",
        "\n",
        "plt.figure()\n",
        "\n",
        "epochs_zoom = epochs[50:]\n",
        "mae_zoom = val_loss[50:]\n",
        "loss_zoom = loss[50:]\n",
        "\n",
        "#------------------------------------------------\n",
        "# Plot Zoomed validate loss and Loss\n",
        "#------------------------------------------------\n",
        "plt.plot(epochs_zoom, mae_zoom, 'r')\n",
        "plt.plot(epochs_zoom, loss_zoom, 'b')\n",
        "plt.title('validate loss and Loss')\n",
        "plt.xlabel(\"Epochs\")\n",
        "plt.ylabel(\"Accuracy\")\n",
        "plt.legend([\"validate loss\", \"Loss\"])\n",
        "\n",
        "plt.figure()"
      ],
      "execution_count": 216,
      "outputs": [
        {
          "output_type": "execute_result",
          "data": {
            "text/plain": [
              "<Figure size 432x288 with 0 Axes>"
            ]
          },
          "metadata": {
            "tags": []
          },
          "execution_count": 216
        },
        {
          "output_type": "display_data",
          "data": {
            "image/png": "[encoded data removed]",
            "text/plain": [
              "<Figure size 432x288 with 1 Axes>"
            ]
          },
          "metadata": {
            "tags": [],
            "needs_background": "light"
          }
        },
        {
          "output_type": "display_data",
          "data": {
            "image/png": "[encoded data removed]",
            "text/plain": [
              "<Figure size 432x288 with 1 Axes>"
            ]
          },
          "metadata": {
            "tags": [],
            "needs_background": "light"
          }
        },
        {
          "output_type": "display_data",
          "data": {
            "text/plain": [
              "<Figure size 432x288 with 0 Axes>"
            ]
          },
          "metadata": {
            "tags": []
          }
        }
      ]
    },
    {
      "cell_type": "markdown",
      "metadata": {
        "id": "KoYQA5EiBzsx",
        "colab_type": "text"
      },
      "source": [
        "### График сравнения предсказанной мощности с реальной, взятой из таблицы"
      ]
    },
    {
      "cell_type": "code",
      "metadata": {
        "id": "mmT02YyvqPbo",
        "colab_type": "code",
        "colab": {}
      },
      "source": [
        "forecast=[]\n",
        "for t in range(split_datetime-window_size,len(series) - window_size):\n",
        "  pred=np.expand_dims(series[t:t+window_size],0)\n",
        "  forecast.append(Model.predict(pred).flatten())\n",
        "\n",
        "results = forecast\n",
        "results = np.squeeze(forecast)#[:, 0, 0]\n",
        "\n",
        "\n"
      ],
      "execution_count": 0,
      "outputs": []
    },
    {
      "cell_type": "code",
      "metadata": {
        "id": "Tl8VrieQfTLT",
        "colab_type": "code",
        "colab": {}
      },
      "source": [
        "def plot_series(time, series, format=\"-\", start=0, end=None, legend=None):\n",
        "    plt.plot(time[start:end], series[start:end], format, )\n",
        "    plt.xlabel(\"Time\")\n",
        "    plt.ylabel(\"Value\")\n",
        "    # plt.legend(legend)\n",
        "    plt.grid(True)"
      ],
      "execution_count": 0,
      "outputs": []
    },
    {
      "cell_type": "code",
      "metadata": {
        "id": "ojppD21dDkvg",
        "colab_type": "code",
        "outputId": "98e7fffd-ce64-42e9-b404-4efe194ed68b",
        "colab": {
          "base_uri": "https://localhost:8080/",
          "height": 518
        }
      },
      "source": [
        "#import matplotlib.pyplot as plt\n",
        "\n",
        "time_train = series[split_datetime:].index#.to_numpy(dtype=np.datetime64)\n",
        "plt.figure(figsize=(25, 9))\n",
        "# plt.ylim(top=2)\n",
        "plot_series(time_train, series[split_datetime:]['Мощность, МВт'], format='-*')#,start=300)#,end=200)\n",
        "plot_series(time_train, results)#,start=300)#,end=200)\n",
        "plt.legend(['Power', 'Forecast'])"
      ],
      "execution_count": 226,
      "outputs": [
        {
          "output_type": "execute_result",
          "data": {
            "text/plain": [
              "<matplotlib.legend.Legend at 0x7fc935abbb70>"
            ]
          },
          "metadata": {
            "tags": []
          },
          "execution_count": 226
        },
        {
          "output_type": "display_data",
          "data": {
            "image/png": "[encoded data removed]",
            "text/plain": [
              "<Figure size 1800x648 with 1 Axes>"
            ]
          },
          "metadata": {
            "tags": [],
            "needs_background": "light"
          }
        }
      ]
    },
    {
      "cell_type": "code",
      "metadata": {
        "id": "Ga5CUGaF6CjH",
        "colab_type": "code",
        "colab": {}
      },
      "source": [
        ""
      ],
      "execution_count": 0,
      "outputs": []
    }
  ]
}